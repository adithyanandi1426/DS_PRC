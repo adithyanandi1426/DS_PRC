{
  "nbformat": 4,
  "nbformat_minor": 0,
  "metadata": {
    "colab": {
      "name": "dxc_pyspark_june6th.ipynb",
      "provenance": [],
      "collapsed_sections": []
    },
    "kernelspec": {
      "name": "python3",
      "display_name": "Python 3"
    },
    "language_info": {
      "name": "python"
    }
  },
  "cells": [
    {
      "cell_type": "code",
      "execution_count": 1,
      "metadata": {
        "colab": {
          "base_uri": "https://localhost:8080/"
        },
        "id": "yrsKjLSQuS8M",
        "outputId": "3672386a-edd7-4491-b698-bc62ec8dd01c"
      },
      "outputs": [
        {
          "output_type": "stream",
          "name": "stdout",
          "text": [
            "Looking in indexes: https://pypi.org/simple, https://us-python.pkg.dev/colab-wheels/public/simple/\n",
            "Collecting pyspark\n",
            "  Downloading pyspark-3.2.1.tar.gz (281.4 MB)\n",
            "\u001b[K     |████████████████████████████████| 281.4 MB 36 kB/s \n",
            "\u001b[?25hCollecting py4j==0.10.9.3\n",
            "  Downloading py4j-0.10.9.3-py2.py3-none-any.whl (198 kB)\n",
            "\u001b[K     |████████████████████████████████| 198 kB 59.6 MB/s \n",
            "\u001b[?25hBuilding wheels for collected packages: pyspark\n",
            "  Building wheel for pyspark (setup.py) ... \u001b[?25l\u001b[?25hdone\n",
            "  Created wheel for pyspark: filename=pyspark-3.2.1-py2.py3-none-any.whl size=281853642 sha256=20a866ef2dded87f381a7d8e0c7e56efe7bd8ab46ea587921b7e96b0bd3b30af\n",
            "  Stored in directory: /root/.cache/pip/wheels/9f/f5/07/7cd8017084dce4e93e84e92efd1e1d5334db05f2e83bcef74f\n",
            "Successfully built pyspark\n",
            "Installing collected packages: py4j, pyspark\n",
            "Successfully installed py4j-0.10.9.3 pyspark-3.2.1\n"
          ]
        }
      ],
      "source": [
        "pip install pyspark"
      ]
    },
    {
      "cell_type": "code",
      "source": [
        "from pyspark.sql import SparkSession\n",
        "spark = SparkSession.builder.getOrCreate()"
      ],
      "metadata": {
        "id": "jZPxgABywrFV"
      },
      "execution_count": 2,
      "outputs": []
    },
    {
      "cell_type": "code",
      "source": [
        "#pyspark dataframe creation\n",
        "\n",
        "from datetime import datetime, date\n",
        "import pandas as pd\n",
        "from pyspark.sql import Row\n",
        "\n",
        "df = spark.createDataFrame([\n",
        "                            Row(a=1,b=2., c ='string', d =date(2022,6,6), e = datetime(2022,6,6,12,21)),\n",
        "                            Row(a=1,b=3., c ='string', d =date(2022,6,6), e = datetime(2022,6,6,12,21)),\n",
        "                            Row(a=1,b=5., c ='string', d =date(2022,6,6), e = datetime(2022,6,6,12,21)),\n",
        "])\n",
        "df"
      ],
      "metadata": {
        "colab": {
          "base_uri": "https://localhost:8080/"
        },
        "id": "nTaNRJ2cxfb-",
        "outputId": "7a7c3f61-2c3c-4485-f981-98a9311622f0"
      },
      "execution_count": 4,
      "outputs": [
        {
          "output_type": "execute_result",
          "data": {
            "text/plain": [
              "DataFrame[a: bigint, b: double, c: string, d: date, e: timestamp]"
            ]
          },
          "metadata": {},
          "execution_count": 4
        }
      ]
    },
    {
      "cell_type": "code",
      "source": [
        "df = spark.createDataFrame([\n",
        "     (1,2., 'string1', date(2022,6,6),datetime(2022,6,6,12,30)),\n",
        "     (2,3., 'string2', date(2022,7,6),datetime(2022,6,6,12,30)),\n",
        "     (3,4., 'string3', date(2022,8,6),datetime(2022,6,6,12,30)),\n",
        "], \n",
        "schema = 'a long, b double, c string, d date, e timestamp')\n",
        "df"
      ],
      "metadata": {
        "colab": {
          "base_uri": "https://localhost:8080/"
        },
        "id": "7UjG8cR-1Fco",
        "outputId": "d6715dab-ba3c-4c0d-94fa-c9436e2f931f"
      },
      "execution_count": 6,
      "outputs": [
        {
          "output_type": "execute_result",
          "data": {
            "text/plain": [
              "DataFrame[a: bigint, b: double, c: string, d: date, e: timestamp]"
            ]
          },
          "metadata": {},
          "execution_count": 6
        }
      ]
    },
    {
      "cell_type": "code",
      "source": [
        "pandas_df = pd.DataFrame({\n",
        "    'a': [1,2,3],\n",
        "    'b':[2,3,4],\n",
        "    'c': ['string1','string2','string3'],\n",
        "    'd' :[date(2022,6,6),date(2022,7,6),date(2022,8,6)],\n",
        "    'e' : [datetime(2022,6,6,12,30),datetime(2022,6,7,12,30),datetime(2022,6,8,12,30)] \n",
        "})\n",
        "df = spark.createDataFrame(pandas_df)\n",
        "df"
      ],
      "metadata": {
        "colab": {
          "base_uri": "https://localhost:8080/"
        },
        "id": "iSGhUGk-3Iqn",
        "outputId": "f657cce0-abfe-492a-d9de-56af047229be"
      },
      "execution_count": 8,
      "outputs": [
        {
          "output_type": "execute_result",
          "data": {
            "text/plain": [
              "DataFrame[a: bigint, b: bigint, c: string, d: date, e: timestamp]"
            ]
          },
          "metadata": {},
          "execution_count": 8
        }
      ]
    },
    {
      "cell_type": "code",
      "source": [
        "rdd = spark.sparkContext.parallelize([\n",
        "       (1,2., 'string1', date(2022,6,6),datetime(2022,6,6,12,30)),\n",
        "     (2,3., 'string2', date(2022,7,6),datetime(2022,6,6,12,30)),\n",
        "     (3,4., 'string3', date(2022,8,6),datetime(2022,6,6,12,30)),                               \n",
        "])\n",
        "df = spark.createDataFrame(rdd, schema=['a','b','c','d','e'])\n",
        "df"
      ],
      "metadata": {
        "colab": {
          "base_uri": "https://localhost:8080/"
        },
        "id": "DRXz0P_B79oc",
        "outputId": "6f3d1f1b-d213-4862-eb2d-dab8a801ebed"
      },
      "execution_count": 9,
      "outputs": [
        {
          "output_type": "execute_result",
          "data": {
            "text/plain": [
              "DataFrame[a: bigint, b: double, c: string, d: date, e: timestamp]"
            ]
          },
          "metadata": {},
          "execution_count": 9
        }
      ]
    }
  ]
}